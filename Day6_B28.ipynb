{
 "cells": [
  {
   "cell_type": "code",
   "execution_count": null,
   "metadata": {},
   "outputs": [],
   "source": [
    "Introduction to for loop"
   ]
  },
  {
   "cell_type": "code",
   "execution_count": null,
   "metadata": {},
   "outputs": [],
   "source": []
  },
  {
   "cell_type": "code",
   "execution_count": 4,
   "metadata": {},
   "outputs": [],
   "source": [
    "students={'ravi', 'kumar','ishwarya','harika','muskan','vrinda','sam'}"
   ]
  },
  {
   "cell_type": "code",
   "execution_count": 5,
   "metadata": {},
   "outputs": [
    {
     "name": "stdout",
     "output_type": "stream",
     "text": [
      "{'sam', 'ravi', 'harika', 'ishwarya', 'vrinda', 'kumar', 'muskan'}\n"
     ]
    }
   ],
   "source": [
    "print(students)"
   ]
  },
  {
   "cell_type": "code",
   "execution_count": null,
   "metadata": {},
   "outputs": [],
   "source": [
    "# print datatype"
   ]
  },
  {
   "cell_type": "code",
   "execution_count": 3,
   "metadata": {},
   "outputs": [
    {
     "data": {
      "text/plain": [
       "set"
      ]
     },
     "execution_count": 3,
     "metadata": {},
     "output_type": "execute_result"
    }
   ],
   "source": [
    "type(students)"
   ]
  },
  {
   "cell_type": "code",
   "execution_count": 6,
   "metadata": {},
   "outputs": [],
   "source": [
    "students=['ravi', 'kumar','ishwarya','harika','muskan','vrinda','sam']"
   ]
  },
  {
   "cell_type": "code",
   "execution_count": 7,
   "metadata": {},
   "outputs": [
    {
     "data": {
      "text/plain": [
       "list"
      ]
     },
     "execution_count": 7,
     "metadata": {},
     "output_type": "execute_result"
    }
   ],
   "source": [
    "type(students)"
   ]
  },
  {
   "cell_type": "code",
   "execution_count": null,
   "metadata": {},
   "outputs": [],
   "source": [
    "Req: i want to appreciate all the stdents who are present in the above list ...?"
   ]
  },
  {
   "cell_type": "code",
   "execution_count": null,
   "metadata": {},
   "outputs": [],
   "source": []
  },
  {
   "cell_type": "code",
   "execution_count": 9,
   "metadata": {},
   "outputs": [
    {
     "name": "stdout",
     "output_type": "stream",
     "text": [
      "Keep up the good work, Ravi\n"
     ]
    }
   ],
   "source": [
    "print(f\"Keep up the good work, {students[0].title()}\")"
   ]
  },
  {
   "cell_type": "code",
   "execution_count": 12,
   "metadata": {},
   "outputs": [
    {
     "name": "stdout",
     "output_type": "stream",
     "text": [
      "Keep up the good work, Kumar\n"
     ]
    }
   ],
   "source": [
    "print(f\"Keep up the good work, {students[1].title()}\")"
   ]
  },
  {
   "cell_type": "code",
   "execution_count": 13,
   "metadata": {},
   "outputs": [
    {
     "name": "stdout",
     "output_type": "stream",
     "text": [
      "Keep up the good work, Ishwarya\n"
     ]
    }
   ],
   "source": [
    "print(f\"Keep up the good work, {students[2].title()}\")"
   ]
  },
  {
   "cell_type": "code",
   "execution_count": null,
   "metadata": {},
   "outputs": [],
   "source": [
    "# enhanced code"
   ]
  },
  {
   "cell_type": "code",
   "execution_count": null,
   "metadata": {},
   "outputs": [],
   "source": [
    "Req: To appreciate all the students at a go (single shot code execution):"
   ]
  },
  {
   "cell_type": "code",
   "execution_count": 17,
   "metadata": {},
   "outputs": [
    {
     "name": "stdout",
     "output_type": "stream",
     "text": [
      "Keep up the good work,Ravi.\n",
      "\n",
      "Keep up the good work,Kumar.\n",
      "\n",
      "Keep up the good work,Ishwarya.\n",
      "\n",
      "Keep up the good work,Harika.\n",
      "\n",
      "Keep up the good work,Muskan.\n",
      "\n",
      "Keep up the good work,Vrinda.\n",
      "\n",
      "Keep up the good work,Sam.\n",
      "\n"
     ]
    }
   ],
   "source": [
    "for student in students :\n",
    "    print(f\"Keep up the good work,{student.title()}.\\n\")"
   ]
  },
  {
   "cell_type": "code",
   "execution_count": null,
   "metadata": {},
   "outputs": [],
   "source": [
    "introduction to for loops:"
   ]
  },
  {
   "cell_type": "code",
   "execution_count": null,
   "metadata": {},
   "outputs": [],
   "source": []
  },
  {
   "cell_type": "code",
   "execution_count": null,
   "metadata": {},
   "outputs": [],
   "source": [
    "#General syntax of a for loop"
   ]
  },
  {
   "cell_type": "code",
   "execution_count": 19,
   "metadata": {},
   "outputs": [
    {
     "ename": "SyntaxError",
     "evalue": "invalid syntax (<ipython-input-19-19ec6945f528>, line 2)",
     "output_type": "error",
     "traceback": [
      "\u001b[1;36m  File \u001b[1;32m\"<ipython-input-19-19ec6945f528>\"\u001b[1;36m, line \u001b[1;32m2\u001b[0m\n\u001b[1;33m    .print(tempvar) #indentation...!\u001b[0m\n\u001b[1;37m    ^\u001b[0m\n\u001b[1;31mSyntaxError\u001b[0m\u001b[1;31m:\u001b[0m invalid syntax\n"
     ]
    }
   ],
   "source": [
    "for tempvar in mainvar: # tempvar ...\n",
    "    .print(tempvar) #indentation...!"
   ]
  },
  {
   "cell_type": "code",
   "execution_count": 22,
   "metadata": {},
   "outputs": [
    {
     "name": "stdout",
     "output_type": "stream",
     "text": [
      "Keep up the good work, Ravi.\n",
      "\n",
      "Keep up the good work, Kumar.\n",
      "\n",
      "Keep up the good work, Ishwarya.\n",
      "\n",
      "Keep up the good work, Harika.\n",
      "\n",
      "Keep up the good work, Muskan.\n",
      "\n",
      "Keep up the good work, Vrinda.\n",
      "\n",
      "Keep up the good work, Sam.\n",
      "\n"
     ]
    }
   ],
   "source": [
    "for x in students:\n",
    "    print(f\"Keep up the good work, {x.title()}.\\n\")"
   ]
  },
  {
   "cell_type": "code",
   "execution_count": null,
   "metadata": {},
   "outputs": [],
   "source": [
    "# x is tem variable and students is master lost"
   ]
  },
  {
   "cell_type": "code",
   "execution_count": null,
   "metadata": {},
   "outputs": [],
   "source": [
    "Req: I wanted to give them a message that i am looking for the practise files of today"
   ]
  },
  {
   "cell_type": "code",
   "execution_count": 26,
   "metadata": {},
   "outputs": [
    {
     "name": "stdout",
     "output_type": "stream",
     "text": [
      "Keep up the good work, Ravi.\n",
      "do send me the practise files of today, Ravi.\n",
      "Keep up the good work, Kumar.\n",
      "do send me the practise files of today, Kumar.\n",
      "Keep up the good work, Ishwarya.\n",
      "do send me the practise files of today, Ishwarya.\n",
      "Keep up the good work, Harika.\n",
      "do send me the practise files of today, Harika.\n",
      "Keep up the good work, Muskan.\n",
      "do send me the practise files of today, Muskan.\n",
      "Keep up the good work, Vrinda.\n",
      "do send me the practise files of today, Vrinda.\n",
      "Keep up the good work, Sam.\n",
      "do send me the practise files of today, Sam.\n"
     ]
    }
   ],
   "source": [
    "for x in students:\n",
    "    print(f\"Keep up the good work, {x.title()}.\")\n",
    "    print(f\"do send me the practise files of today, {x.title()}.\")"
   ]
  },
  {
   "cell_type": "code",
   "execution_count": null,
   "metadata": {},
   "outputs": [],
   "source": []
  },
  {
   "cell_type": "code",
   "execution_count": 27,
   "metadata": {},
   "outputs": [
    {
     "name": "stdout",
     "output_type": "stream",
     "text": [
      "Keep up the good work, Ravi.\n",
      "do send me the practise files of today, Ravi.\n",
      "\n",
      "Keep up the good work, Kumar.\n",
      "do send me the practise files of today, Kumar.\n",
      "\n",
      "Keep up the good work, Ishwarya.\n",
      "do send me the practise files of today, Ishwarya.\n",
      "\n",
      "Keep up the good work, Harika.\n",
      "do send me the practise files of today, Harika.\n",
      "\n",
      "Keep up the good work, Muskan.\n",
      "do send me the practise files of today, Muskan.\n",
      "\n",
      "Keep up the good work, Vrinda.\n",
      "do send me the practise files of today, Vrinda.\n",
      "\n",
      "Keep up the good work, Sam.\n",
      "do send me the practise files of today, Sam.\n",
      "\n"
     ]
    }
   ],
   "source": [
    "for x in students:\n",
    "    print(f\"Keep up the good work, {x.title()}.\")\n",
    "    print(f\"do send me the practise files of today, {x.title()}.\\n\")"
   ]
  },
  {
   "cell_type": "code",
   "execution_count": null,
   "metadata": {},
   "outputs": [],
   "source": []
  },
  {
   "cell_type": "code",
   "execution_count": null,
   "metadata": {},
   "outputs": [],
   "source": []
  },
  {
   "cell_type": "code",
   "execution_count": null,
   "metadata": {},
   "outputs": [],
   "source": []
  }
 ],
 "metadata": {
  "kernelspec": {
   "display_name": "Python 3",
   "language": "python",
   "name": "python3"
  },
  "language_info": {
   "codemirror_mode": {
    "name": "ipython",
    "version": 3
   },
   "file_extension": ".py",
   "mimetype": "text/x-python",
   "name": "python",
   "nbconvert_exporter": "python",
   "pygments_lexer": "ipython3",
   "version": "3.8.3"
  }
 },
 "nbformat": 4,
 "nbformat_minor": 4
}
