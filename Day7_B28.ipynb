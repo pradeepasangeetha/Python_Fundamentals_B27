{
 "cells": [
  {
   "cell_type": "code",
   "execution_count": null,
   "metadata": {},
   "outputs": [],
   "source": [
    "Introduction to conditional statements"
   ]
  },
  {
   "cell_type": "code",
   "execution_count": null,
   "metadata": {},
   "outputs": [],
   "source": [
    "if, if else, elif ===> 3 different conditions"
   ]
  },
  {
   "cell_type": "code",
   "execution_count": null,
   "metadata": {},
   "outputs": [],
   "source": []
  },
  {
   "cell_type": "code",
   "execution_count": null,
   "metadata": {},
   "outputs": [],
   "source": [
    "Case Study: Building a voting application"
   ]
  },
  {
   "cell_type": "code",
   "execution_count": null,
   "metadata": {},
   "outputs": [],
   "source": [
    "age criteria =====> 18 or more than 18 years of age -----> to get the voting right."
   ]
  },
  {
   "cell_type": "code",
   "execution_count": null,
   "metadata": {},
   "outputs": [],
   "source": []
  },
  {
   "cell_type": "code",
   "execution_count": 1,
   "metadata": {},
   "outputs": [],
   "source": [
    "age=16"
   ]
  },
  {
   "cell_type": "code",
   "execution_count": null,
   "metadata": {},
   "outputs": [],
   "source": []
  },
  {
   "cell_type": "code",
   "execution_count": 3,
   "metadata": {},
   "outputs": [
    {
     "name": "stdout",
     "output_type": "stream",
     "text": [
      "you are not elgible to vote try next year!\n"
     ]
    }
   ],
   "source": [
    "if age>=18:\n",
    "    print('you are eligible to vote')\n",
    "else:\n",
    "    print('you are not elgible to vote try next year!')"
   ]
  },
  {
   "cell_type": "code",
   "execution_count": null,
   "metadata": {},
   "outputs": [],
   "source": []
  },
  {
   "cell_type": "code",
   "execution_count": null,
   "metadata": {},
   "outputs": [],
   "source": [
    "Baby growth:\n",
    "    \n",
    "    Baby---- 1 year ----> crawl  ----->  baby will be able to crawling\n",
    "    Baby---- 2 year ----> stand ----- > baby will be able to stand\n",
    "    Baby---- 3 year ----> walk ------ > baby will be able to walk\n",
    "    Baby---- 4 year ----> run ------- > baby will be able to run!"
   ]
  },
  {
   "cell_type": "code",
   "execution_count": null,
   "metadata": {},
   "outputs": [],
   "source": []
  },
  {
   "cell_type": "code",
   "execution_count": 4,
   "metadata": {},
   "outputs": [],
   "source": [
    "age=2"
   ]
  },
  {
   "cell_type": "code",
   "execution_count": 6,
   "metadata": {},
   "outputs": [
    {
     "name": "stdout",
     "output_type": "stream",
     "text": [
      "baby will be able to stand\n"
     ]
    }
   ],
   "source": [
    "if age == 1:\n",
    "    print('baby will be able to crawl')\n",
    "elif age == 2:\n",
    "    print('baby will be able to stand')\n",
    "elif age == 3:\n",
    "    print('baby will be able to walk')\n",
    "else:\n",
    "    print('baby will be able to run!')"
   ]
  },
  {
   "cell_type": "code",
   "execution_count": 7,
   "metadata": {},
   "outputs": [],
   "source": [
    "age=1"
   ]
  },
  {
   "cell_type": "code",
   "execution_count": 8,
   "metadata": {},
   "outputs": [
    {
     "name": "stdout",
     "output_type": "stream",
     "text": [
      "baby will be able to crawl\n"
     ]
    }
   ],
   "source": [
    "if age == 1:\n",
    "    print('baby will be able to crawl')\n",
    "elif age == 2:\n",
    "    print('baby will be able to stand')\n",
    "elif age == 3:\n",
    "    print('baby will be able to walk')\n",
    "else:\n",
    "    print('baby will be able to run!')"
   ]
  },
  {
   "cell_type": "code",
   "execution_count": 10,
   "metadata": {},
   "outputs": [],
   "source": [
    "age = 3"
   ]
  },
  {
   "cell_type": "code",
   "execution_count": 11,
   "metadata": {},
   "outputs": [
    {
     "name": "stdout",
     "output_type": "stream",
     "text": [
      "baby will be able to walk\n"
     ]
    }
   ],
   "source": [
    "if age == 1:\n",
    "    print('baby will be able to crawl')\n",
    "elif age == 2:\n",
    "    print('baby will be able to stand')\n",
    "elif age == 3:\n",
    "    print('baby will be able to walk')\n",
    "else:\n",
    "    print('baby will be able to run!')"
   ]
  },
  {
   "cell_type": "code",
   "execution_count": 12,
   "metadata": {},
   "outputs": [],
   "source": [
    "age=4"
   ]
  },
  {
   "cell_type": "code",
   "execution_count": 13,
   "metadata": {},
   "outputs": [
    {
     "name": "stdout",
     "output_type": "stream",
     "text": [
      "baby will be able to run!\n"
     ]
    }
   ],
   "source": [
    "if age == 1:\n",
    "    print('baby will be able to crawl')\n",
    "elif age == 2:\n",
    "    print('baby will be able to stand')\n",
    "elif age == 3:\n",
    "    print('baby will be able to walk')\n",
    "else:\n",
    "    print('baby will be able to run!')"
   ]
  },
  {
   "cell_type": "code",
   "execution_count": null,
   "metadata": {},
   "outputs": [],
   "source": []
  },
  {
   "cell_type": "code",
   "execution_count": null,
   "metadata": {},
   "outputs": [],
   "source": []
  },
  {
   "cell_type": "code",
   "execution_count": null,
   "metadata": {},
   "outputs": [],
   "source": []
  },
  {
   "cell_type": "code",
   "execution_count": null,
   "metadata": {},
   "outputs": [],
   "source": []
  },
  {
   "cell_type": "code",
   "execution_count": null,
   "metadata": {},
   "outputs": [],
   "source": []
  },
  {
   "cell_type": "code",
   "execution_count": null,
   "metadata": {},
   "outputs": [],
   "source": []
  },
  {
   "cell_type": "code",
   "execution_count": null,
   "metadata": {},
   "outputs": [],
   "source": []
  }
 ],
 "metadata": {
  "kernelspec": {
   "display_name": "Python 3",
   "language": "python",
   "name": "python3"
  },
  "language_info": {
   "codemirror_mode": {
    "name": "ipython",
    "version": 3
   },
   "file_extension": ".py",
   "mimetype": "text/x-python",
   "name": "python",
   "nbconvert_exporter": "python",
   "pygments_lexer": "ipython3",
   "version": "3.8.3"
  }
 },
 "nbformat": 4,
 "nbformat_minor": 4
}
